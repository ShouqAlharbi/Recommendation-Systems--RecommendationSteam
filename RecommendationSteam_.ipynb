{
  "nbformat": 4,
  "nbformat_minor": 0,
  "metadata": {
    "colab": {
      "provenance": [],
      "collapsed_sections": []
    },
    "kernelspec": {
      "name": "python3",
      "display_name": "Python 3"
    },
    "language_info": {
      "name": "python"
    }
  },
  "cells": [
    {
      "cell_type": "code",
      "execution_count": 1,
      "metadata": {
        "colab": {
          "base_uri": "https://localhost:8080/"
        },
        "id": "nROwupnnnqzD",
        "outputId": "fe26aaa5-0c5a-4c29-d04a-e17b968a6fcc"
      },
      "outputs": [
        {
          "output_type": "stream",
          "name": "stdout",
          "text": [
            "Looking in indexes: https://pypi.org/simple, https://us-python.pkg.dev/colab-wheels/public/simple/\n",
            "Collecting scikit-surprise\n",
            "  Downloading scikit-surprise-1.1.1.tar.gz (11.8 MB)\n",
            "\u001b[K     |████████████████████████████████| 11.8 MB 2.1 MB/s \n",
            "\u001b[?25hRequirement already satisfied: joblib>=0.11 in /usr/local/lib/python3.7/dist-packages (from scikit-surprise) (1.2.0)\n",
            "Requirement already satisfied: numpy>=1.11.2 in /usr/local/lib/python3.7/dist-packages (from scikit-surprise) (1.21.6)\n",
            "Requirement already satisfied: scipy>=1.0.0 in /usr/local/lib/python3.7/dist-packages (from scikit-surprise) (1.7.3)\n",
            "Requirement already satisfied: six>=1.10.0 in /usr/local/lib/python3.7/dist-packages (from scikit-surprise) (1.15.0)\n",
            "Building wheels for collected packages: scikit-surprise\n",
            "  Building wheel for scikit-surprise (setup.py) ... \u001b[?25l\u001b[?25hdone\n",
            "  Created wheel for scikit-surprise: filename=scikit_surprise-1.1.1-cp37-cp37m-linux_x86_64.whl size=1633967 sha256=e88eb09a4dc47c6bd6f798c80da62fa3583e8f7ade7d28861254703cba84bb7c\n",
            "  Stored in directory: /root/.cache/pip/wheels/76/44/74/b498c42be47b2406bd27994e16c5188e337c657025ab400c1c\n",
            "Successfully built scikit-surprise\n",
            "Installing collected packages: scikit-surprise\n",
            "Successfully installed scikit-surprise-1.1.1\n"
          ]
        }
      ],
      "source": [
        "!pip install scikit-surprise"
      ]
    },
    {
      "cell_type": "code",
      "source": [
        "# imports\n",
        "%matplotlib inline\n",
        "import pandas as pd\n",
        "import numpy as np\n",
        "import matplotlib.pyplot as plt\n",
        "import seaborn as sns\n",
        "from scipy import stats\n",
        "from ast import literal_eval\n",
        "from sklearn.model_selection import KFold, train_test_split\n",
        "from sklearn.feature_extraction.text import TfidfVectorizer, CountVectorizer\n",
        "from sklearn.metrics.pairwise import linear_kernel, cosine_similarity\n",
        "from nltk.stem.snowball import SnowballStemmer\n",
        "from nltk.stem.wordnet import WordNetLemmatizer\n",
        "from nltk.corpus import wordnet\n",
        "from surprise import Reader, Dataset, SVD # for collabrotative filtering and matrix factorization\n",
        "from surprise.model_selection import cross_validate\n",
        "\n",
        "import warnings; warnings.simplefilter('ignore')\n",
        "pd.set_option('display.max_columns', None)\n",
        "import json\n",
        "from urllib.request import urlopen\n",
        "import requests,json,os,sys,time,re\n",
        "import pandas as pd\n",
        "import numpy as np"
      ],
      "metadata": {
        "id": "7SSAr5ezn9q1"
      },
      "execution_count": 32,
      "outputs": []
    },
    {
      "cell_type": "code",
      "source": [
        "sd = pd. read_csv('Steam Dataset.csv')\n",
        "sd.head()"
      ],
      "metadata": {
        "colab": {
          "base_uri": "https://localhost:8080/",
          "height": 206
        },
        "id": "5Ol0SiQbnxH3",
        "outputId": "09f41811-f871-437a-cd7a-3267f940e611"
      },
      "execution_count": 138,
      "outputs": [
        {
          "output_type": "execute_result",
          "data": {
            "text/plain": [
              "   Positive  Negative  Game_id         Game_name  Positive_Rate  \\\n",
              "0    285421      3487      620          Portal 2       0.987930   \n",
              "1    102805      1640      400            Portal       0.984298   \n",
              "2    439665      8619   413150    Stardew Valley       0.980773   \n",
              "3    476762      9701   431960  Wallpaper Engine       0.980058   \n",
              "4    910629     19342   105600          Terraria       0.979202   \n",
              "\n",
              "                                       links  \\\n",
              "0     https://store.steampowered.com/app/620   \n",
              "1     https://store.steampowered.com/app/400   \n",
              "2  https://store.steampowered.com/app/413150   \n",
              "3  https://store.steampowered.com/app/431960   \n",
              "4  https://store.steampowered.com/app/105600   \n",
              "\n",
              "                                    Game_description  \n",
              "0  <div class=\"game_area_description\" id=\"game_ar...  \n",
              "1  <div class=\"game_area_description\" id=\"game_ar...  \n",
              "2  <div class=\"game_area_description\" id=\"game_ar...  \n",
              "3  <div class=\"game_area_description\" id=\"game_ar...  \n",
              "4  <div class=\"game_area_description\" id=\"game_ar...  "
            ],
            "text/html": [
              "\n",
              "  <div id=\"df-f35b45a3-3ae9-4c28-9bf5-b63fe8d75b39\">\n",
              "    <div class=\"colab-df-container\">\n",
              "      <div>\n",
              "<style scoped>\n",
              "    .dataframe tbody tr th:only-of-type {\n",
              "        vertical-align: middle;\n",
              "    }\n",
              "\n",
              "    .dataframe tbody tr th {\n",
              "        vertical-align: top;\n",
              "    }\n",
              "\n",
              "    .dataframe thead th {\n",
              "        text-align: right;\n",
              "    }\n",
              "</style>\n",
              "<table border=\"1\" class=\"dataframe\">\n",
              "  <thead>\n",
              "    <tr style=\"text-align: right;\">\n",
              "      <th></th>\n",
              "      <th>Positive</th>\n",
              "      <th>Negative</th>\n",
              "      <th>Game_id</th>\n",
              "      <th>Game_name</th>\n",
              "      <th>Positive_Rate</th>\n",
              "      <th>links</th>\n",
              "      <th>Game_description</th>\n",
              "    </tr>\n",
              "  </thead>\n",
              "  <tbody>\n",
              "    <tr>\n",
              "      <th>0</th>\n",
              "      <td>285421</td>\n",
              "      <td>3487</td>\n",
              "      <td>620</td>\n",
              "      <td>Portal 2</td>\n",
              "      <td>0.987930</td>\n",
              "      <td>https://store.steampowered.com/app/620</td>\n",
              "      <td>&lt;div class=\"game_area_description\" id=\"game_ar...</td>\n",
              "    </tr>\n",
              "    <tr>\n",
              "      <th>1</th>\n",
              "      <td>102805</td>\n",
              "      <td>1640</td>\n",
              "      <td>400</td>\n",
              "      <td>Portal</td>\n",
              "      <td>0.984298</td>\n",
              "      <td>https://store.steampowered.com/app/400</td>\n",
              "      <td>&lt;div class=\"game_area_description\" id=\"game_ar...</td>\n",
              "    </tr>\n",
              "    <tr>\n",
              "      <th>2</th>\n",
              "      <td>439665</td>\n",
              "      <td>8619</td>\n",
              "      <td>413150</td>\n",
              "      <td>Stardew Valley</td>\n",
              "      <td>0.980773</td>\n",
              "      <td>https://store.steampowered.com/app/413150</td>\n",
              "      <td>&lt;div class=\"game_area_description\" id=\"game_ar...</td>\n",
              "    </tr>\n",
              "    <tr>\n",
              "      <th>3</th>\n",
              "      <td>476762</td>\n",
              "      <td>9701</td>\n",
              "      <td>431960</td>\n",
              "      <td>Wallpaper Engine</td>\n",
              "      <td>0.980058</td>\n",
              "      <td>https://store.steampowered.com/app/431960</td>\n",
              "      <td>&lt;div class=\"game_area_description\" id=\"game_ar...</td>\n",
              "    </tr>\n",
              "    <tr>\n",
              "      <th>4</th>\n",
              "      <td>910629</td>\n",
              "      <td>19342</td>\n",
              "      <td>105600</td>\n",
              "      <td>Terraria</td>\n",
              "      <td>0.979202</td>\n",
              "      <td>https://store.steampowered.com/app/105600</td>\n",
              "      <td>&lt;div class=\"game_area_description\" id=\"game_ar...</td>\n",
              "    </tr>\n",
              "  </tbody>\n",
              "</table>\n",
              "</div>\n",
              "      <button class=\"colab-df-convert\" onclick=\"convertToInteractive('df-f35b45a3-3ae9-4c28-9bf5-b63fe8d75b39')\"\n",
              "              title=\"Convert this dataframe to an interactive table.\"\n",
              "              style=\"display:none;\">\n",
              "        \n",
              "  <svg xmlns=\"http://www.w3.org/2000/svg\" height=\"24px\"viewBox=\"0 0 24 24\"\n",
              "       width=\"24px\">\n",
              "    <path d=\"M0 0h24v24H0V0z\" fill=\"none\"/>\n",
              "    <path d=\"M18.56 5.44l.94 2.06.94-2.06 2.06-.94-2.06-.94-.94-2.06-.94 2.06-2.06.94zm-11 1L8.5 8.5l.94-2.06 2.06-.94-2.06-.94L8.5 2.5l-.94 2.06-2.06.94zm10 10l.94 2.06.94-2.06 2.06-.94-2.06-.94-.94-2.06-.94 2.06-2.06.94z\"/><path d=\"M17.41 7.96l-1.37-1.37c-.4-.4-.92-.59-1.43-.59-.52 0-1.04.2-1.43.59L10.3 9.45l-7.72 7.72c-.78.78-.78 2.05 0 2.83L4 21.41c.39.39.9.59 1.41.59.51 0 1.02-.2 1.41-.59l7.78-7.78 2.81-2.81c.8-.78.8-2.07 0-2.86zM5.41 20L4 18.59l7.72-7.72 1.47 1.35L5.41 20z\"/>\n",
              "  </svg>\n",
              "      </button>\n",
              "      \n",
              "  <style>\n",
              "    .colab-df-container {\n",
              "      display:flex;\n",
              "      flex-wrap:wrap;\n",
              "      gap: 12px;\n",
              "    }\n",
              "\n",
              "    .colab-df-convert {\n",
              "      background-color: #E8F0FE;\n",
              "      border: none;\n",
              "      border-radius: 50%;\n",
              "      cursor: pointer;\n",
              "      display: none;\n",
              "      fill: #1967D2;\n",
              "      height: 32px;\n",
              "      padding: 0 0 0 0;\n",
              "      width: 32px;\n",
              "    }\n",
              "\n",
              "    .colab-df-convert:hover {\n",
              "      background-color: #E2EBFA;\n",
              "      box-shadow: 0px 1px 2px rgba(60, 64, 67, 0.3), 0px 1px 3px 1px rgba(60, 64, 67, 0.15);\n",
              "      fill: #174EA6;\n",
              "    }\n",
              "\n",
              "    [theme=dark] .colab-df-convert {\n",
              "      background-color: #3B4455;\n",
              "      fill: #D2E3FC;\n",
              "    }\n",
              "\n",
              "    [theme=dark] .colab-df-convert:hover {\n",
              "      background-color: #434B5C;\n",
              "      box-shadow: 0px 1px 3px 1px rgba(0, 0, 0, 0.15);\n",
              "      filter: drop-shadow(0px 1px 2px rgba(0, 0, 0, 0.3));\n",
              "      fill: #FFFFFF;\n",
              "    }\n",
              "  </style>\n",
              "\n",
              "      <script>\n",
              "        const buttonEl =\n",
              "          document.querySelector('#df-f35b45a3-3ae9-4c28-9bf5-b63fe8d75b39 button.colab-df-convert');\n",
              "        buttonEl.style.display =\n",
              "          google.colab.kernel.accessAllowed ? 'block' : 'none';\n",
              "\n",
              "        async function convertToInteractive(key) {\n",
              "          const element = document.querySelector('#df-f35b45a3-3ae9-4c28-9bf5-b63fe8d75b39');\n",
              "          const dataTable =\n",
              "            await google.colab.kernel.invokeFunction('convertToInteractive',\n",
              "                                                     [key], {});\n",
              "          if (!dataTable) return;\n",
              "\n",
              "          const docLinkHtml = 'Like what you see? Visit the ' +\n",
              "            '<a target=\"_blank\" href=https://colab.research.google.com/notebooks/data_table.ipynb>data table notebook</a>'\n",
              "            + ' to learn more about interactive tables.';\n",
              "          element.innerHTML = '';\n",
              "          dataTable['output_type'] = 'display_data';\n",
              "          await google.colab.output.renderOutput(dataTable, element);\n",
              "          const docLink = document.createElement('div');\n",
              "          docLink.innerHTML = docLinkHtml;\n",
              "          element.appendChild(docLink);\n",
              "        }\n",
              "      </script>\n",
              "    </div>\n",
              "  </div>\n",
              "  "
            ]
          },
          "metadata": {},
          "execution_count": 138
        }
      ]
    },
    {
      "cell_type": "markdown",
      "source": [
        "**Through this code, I extract a column \" Game_description\" from the HTML code**"
      ],
      "metadata": {
        "id": "LuDAVBN2zJkg"
      }
    },
    {
      "cell_type": "code",
      "source": [
        "import re\n",
        "import string\n",
        "\n",
        "current_count = 0\n",
        "for i in range(0,100):\n",
        "    sd['Game_description'][i] = re.sub('<.*?>', ' ', sd['Game_description'][i])\n",
        "    sd['Game_description'][i] = re.sub('\\\\n.*\\\\n', ' ', sd['Game_description'][i])\n",
        "    sd['Game_description'][i] = sd['Game_description'][i].replace(\"\\t\",\"\")\n",
        "    sd['Game_description'][i] = sd['Game_description'][i].translate(sd['Game_description'][i].maketrans(' ',' ',string.punctuation))\n",
        "\n",
        "\n",
        "    current_count+=1\n"
      ],
      "metadata": {
        "id": "WGqRQqB8n2CP"
      },
      "execution_count": 139,
      "outputs": []
    },
    {
      "cell_type": "markdown",
      "source": [
        "I use   \"fillna\"  method to fill values in Game_description column"
      ],
      "metadata": {
        "id": "_u0oRAeJ0dzn"
      }
    },
    {
      "cell_type": "code",
      "source": [
        "\n",
        "sd['Game_description'] = sd['Game_description'].fillna('[]')"
      ],
      "metadata": {
        "id": "RexLowQVpJLc"
      },
      "execution_count": 140,
      "outputs": []
    },
    {
      "cell_type": "markdown",
      "source": [
        "display  Game_description column to check "
      ],
      "metadata": {
        "id": "SqY76GNc0yV7"
      }
    },
    {
      "cell_type": "code",
      "source": [
        "\n",
        " sd['Game_description']"
      ],
      "metadata": {
        "colab": {
          "base_uri": "https://localhost:8080/"
        },
        "id": "i1u1BKhdo9CQ",
        "outputId": "b3d6d003-d1e2-41d9-ff52-9af81668a321"
      },
      "execution_count": 141,
      "outputs": [
        {
          "output_type": "execute_result",
          "data": {
            "text/plain": [
              "0       Portal 2 draws from the awardwinning formula...\n",
              "1        Portal™ is a new single player game from Va...\n",
              "2       Stardew Valley is an openended countrylife R...\n",
              "3       Wallpaper Engine enables you to use live wal...\n",
              "4       Dig Fight Explore Build  The very world is a...\n",
              "                            ...                        \n",
              "95       LAND LOOT SURVIVE  Play PUBG BATTLEGROUNDS ...\n",
              "96      Z1 Battle Royale is a Free to Play fastpaced...\n",
              "97        TEST SERVER   Z1 Battle Royale is a Free t...\n",
              "98      NOTE All multiplayer servers for NBA 2K20 wi...\n",
              "99       WELCOME TO 2042 Battlefield™ 2042 is a firs...\n",
              "Name: Game_description, Length: 100, dtype: object"
            ]
          },
          "metadata": {},
          "execution_count": 141
        }
      ]
    },
    {
      "cell_type": "markdown",
      "source": [
        "here i check the Rate_counts above the 95th percentile \n"
      ],
      "metadata": {
        "id": "g08SlXmT1Wzd"
      }
    },
    {
      "cell_type": "code",
      "source": [
        "\n",
        "Rate_counts = sd[sd['Positive'].notnull()]['Positive'].astype('float64')\n",
        "Rate_averages = sd[sd['Positive_Rate'].notnull()]['Positive_Rate'].astype('float64')\n",
        "C = Rate_averages.mean() #average of  Positive  .\n",
        "C"
      ],
      "metadata": {
        "colab": {
          "base_uri": "https://localhost:8080/"
        },
        "id": "Aj3oPD2H1Xz7",
        "outputId": "8db82451-f858-4d2c-8bc9-46575e767634"
      },
      "execution_count": 143,
      "outputs": [
        {
          "output_type": "execute_result",
          "data": {
            "text/plain": [
              "0.8498376658669073"
            ]
          },
          "metadata": {},
          "execution_count": 143
        }
      ]
    },
    {
      "cell_type": "code",
      "source": [
        "m = Rate_counts.quantile(0.95)\n",
        "m"
      ],
      "metadata": {
        "colab": {
          "base_uri": "https://localhost:8080/"
        },
        "id": "DnyEaaZCU51V",
        "outputId": "bf6ba3f4-92c6-4d52-8c97-7d54744b50bf"
      },
      "execution_count": 144,
      "outputs": [
        {
          "output_type": "execute_result",
          "data": {
            "text/plain": [
              "907781.85"
            ]
          },
          "metadata": {},
          "execution_count": 144
        }
      ]
    },
    {
      "cell_type": "markdown",
      "source": [
        "getting data matching the above criteria (qualified game)\n"
      ],
      "metadata": {
        "id": "dtOTZ3uS2MPH"
      }
    },
    {
      "cell_type": "code",
      "source": [
        "qualified = sd[(sd['Positive'] >= m) & (sd['Positive'].notnull()) & (sd['Positive'].notnull())][['Positive', 'Negative', 'Game_name', 'Positive_Rate', 'links','Game_description']]\n",
        "qualified['Positive'] = qualified['Positive'].astype('float64')\n",
        "qualified['Positive_Rate'] = qualified['Positive_Rate'].astype('float64')\n",
        "qualified.shape"
      ],
      "metadata": {
        "colab": {
          "base_uri": "https://localhost:8080/"
        },
        "id": "EFsUtzecU9JV",
        "outputId": "83a34e69-9a20-4c67-9360-5c6e8cf7c730"
      },
      "execution_count": 145,
      "outputs": [
        {
          "output_type": "execute_result",
          "data": {
            "text/plain": [
              "(5, 6)"
            ]
          },
          "metadata": {},
          "execution_count": 145
        }
      ]
    },
    {
      "cell_type": "code",
      "source": [
        "def weighted_rating(x):\n",
        "\n",
        "\n",
        "  v = x['Positive']\n",
        "  R = x['Positive_Rate']\n",
        "  return (v/(v+m) * R) + (m/(m+v) * C)\n",
        "\n"
      ],
      "metadata": {
        "id": "-EciilXOU_yq"
      },
      "execution_count": 146,
      "outputs": []
    },
    {
      "cell_type": "code",
      "source": [
        "qualified['Rate'] = qualified.apply(weighted_rating, axis=1)"
      ],
      "metadata": {
        "id": "UDWzK9HjVFVz"
      },
      "execution_count": 147,
      "outputs": []
    },
    {
      "cell_type": "markdown",
      "source": [
        "top game"
      ],
      "metadata": {
        "id": "ih5Se5Cp2iUT"
      }
    },
    {
      "cell_type": "code",
      "source": [
        "qualified.sort_values('Rate', ascending=False).head(15)"
      ],
      "metadata": {
        "colab": {
          "base_uri": "https://localhost:8080/",
          "height": 206
        },
        "id": "futDwWJVVMnq",
        "outputId": "7dfbe78b-87df-40d7-be36-877927ec69d4"
      },
      "execution_count": 148,
      "outputs": [
        {
          "output_type": "execute_result",
          "data": {
            "text/plain": [
              "     Positive  Negative                         Game_name  Positive_Rate  \\\n",
              "4    910629.0     19342                          Terraria       0.979202   \n",
              "48  5549226.0    741941  Counter-Strike: Global Offensive       0.882066   \n",
              "62  1110207.0    205439                Grand Theft Auto V       0.843849   \n",
              "63  1418211.0    279704                            Dota 2       0.835266   \n",
              "95  1108250.0    875814               PUBG: BATTLEGROUNDS       0.558576   \n",
              "\n",
              "                                        links  \\\n",
              "4   https://store.steampowered.com/app/105600   \n",
              "48     https://store.steampowered.com/app/730   \n",
              "62  https://store.steampowered.com/app/271590   \n",
              "63     https://store.steampowered.com/app/570   \n",
              "95  https://store.steampowered.com/app/578080   \n",
              "\n",
              "                                     Game_description      Rate  \n",
              "4     Dig Fight Explore Build  The very world is a...  0.914621  \n",
              "48    CounterStrike Global Offensive CS GO expands...  0.877535  \n",
              "62    When a young street hustler a retired bank r...  0.846543  \n",
              "63     The mostplayed game on Steam  Every day mil...  0.840953  \n",
              "95     LAND LOOT SURVIVE  Play PUBG BATTLEGROUNDS ...  0.689726  "
            ],
            "text/html": [
              "\n",
              "  <div id=\"df-f99bd944-6367-4a58-b6c6-969147e369a6\">\n",
              "    <div class=\"colab-df-container\">\n",
              "      <div>\n",
              "<style scoped>\n",
              "    .dataframe tbody tr th:only-of-type {\n",
              "        vertical-align: middle;\n",
              "    }\n",
              "\n",
              "    .dataframe tbody tr th {\n",
              "        vertical-align: top;\n",
              "    }\n",
              "\n",
              "    .dataframe thead th {\n",
              "        text-align: right;\n",
              "    }\n",
              "</style>\n",
              "<table border=\"1\" class=\"dataframe\">\n",
              "  <thead>\n",
              "    <tr style=\"text-align: right;\">\n",
              "      <th></th>\n",
              "      <th>Positive</th>\n",
              "      <th>Negative</th>\n",
              "      <th>Game_name</th>\n",
              "      <th>Positive_Rate</th>\n",
              "      <th>links</th>\n",
              "      <th>Game_description</th>\n",
              "      <th>Rate</th>\n",
              "    </tr>\n",
              "  </thead>\n",
              "  <tbody>\n",
              "    <tr>\n",
              "      <th>4</th>\n",
              "      <td>910629.0</td>\n",
              "      <td>19342</td>\n",
              "      <td>Terraria</td>\n",
              "      <td>0.979202</td>\n",
              "      <td>https://store.steampowered.com/app/105600</td>\n",
              "      <td>Dig Fight Explore Build  The very world is a...</td>\n",
              "      <td>0.914621</td>\n",
              "    </tr>\n",
              "    <tr>\n",
              "      <th>48</th>\n",
              "      <td>5549226.0</td>\n",
              "      <td>741941</td>\n",
              "      <td>Counter-Strike: Global Offensive</td>\n",
              "      <td>0.882066</td>\n",
              "      <td>https://store.steampowered.com/app/730</td>\n",
              "      <td>CounterStrike Global Offensive CS GO expands...</td>\n",
              "      <td>0.877535</td>\n",
              "    </tr>\n",
              "    <tr>\n",
              "      <th>62</th>\n",
              "      <td>1110207.0</td>\n",
              "      <td>205439</td>\n",
              "      <td>Grand Theft Auto V</td>\n",
              "      <td>0.843849</td>\n",
              "      <td>https://store.steampowered.com/app/271590</td>\n",
              "      <td>When a young street hustler a retired bank r...</td>\n",
              "      <td>0.846543</td>\n",
              "    </tr>\n",
              "    <tr>\n",
              "      <th>63</th>\n",
              "      <td>1418211.0</td>\n",
              "      <td>279704</td>\n",
              "      <td>Dota 2</td>\n",
              "      <td>0.835266</td>\n",
              "      <td>https://store.steampowered.com/app/570</td>\n",
              "      <td>The mostplayed game on Steam  Every day mil...</td>\n",
              "      <td>0.840953</td>\n",
              "    </tr>\n",
              "    <tr>\n",
              "      <th>95</th>\n",
              "      <td>1108250.0</td>\n",
              "      <td>875814</td>\n",
              "      <td>PUBG: BATTLEGROUNDS</td>\n",
              "      <td>0.558576</td>\n",
              "      <td>https://store.steampowered.com/app/578080</td>\n",
              "      <td>LAND LOOT SURVIVE  Play PUBG BATTLEGROUNDS ...</td>\n",
              "      <td>0.689726</td>\n",
              "    </tr>\n",
              "  </tbody>\n",
              "</table>\n",
              "</div>\n",
              "      <button class=\"colab-df-convert\" onclick=\"convertToInteractive('df-f99bd944-6367-4a58-b6c6-969147e369a6')\"\n",
              "              title=\"Convert this dataframe to an interactive table.\"\n",
              "              style=\"display:none;\">\n",
              "        \n",
              "  <svg xmlns=\"http://www.w3.org/2000/svg\" height=\"24px\"viewBox=\"0 0 24 24\"\n",
              "       width=\"24px\">\n",
              "    <path d=\"M0 0h24v24H0V0z\" fill=\"none\"/>\n",
              "    <path d=\"M18.56 5.44l.94 2.06.94-2.06 2.06-.94-2.06-.94-.94-2.06-.94 2.06-2.06.94zm-11 1L8.5 8.5l.94-2.06 2.06-.94-2.06-.94L8.5 2.5l-.94 2.06-2.06.94zm10 10l.94 2.06.94-2.06 2.06-.94-2.06-.94-.94-2.06-.94 2.06-2.06.94z\"/><path d=\"M17.41 7.96l-1.37-1.37c-.4-.4-.92-.59-1.43-.59-.52 0-1.04.2-1.43.59L10.3 9.45l-7.72 7.72c-.78.78-.78 2.05 0 2.83L4 21.41c.39.39.9.59 1.41.59.51 0 1.02-.2 1.41-.59l7.78-7.78 2.81-2.81c.8-.78.8-2.07 0-2.86zM5.41 20L4 18.59l7.72-7.72 1.47 1.35L5.41 20z\"/>\n",
              "  </svg>\n",
              "      </button>\n",
              "      \n",
              "  <style>\n",
              "    .colab-df-container {\n",
              "      display:flex;\n",
              "      flex-wrap:wrap;\n",
              "      gap: 12px;\n",
              "    }\n",
              "\n",
              "    .colab-df-convert {\n",
              "      background-color: #E8F0FE;\n",
              "      border: none;\n",
              "      border-radius: 50%;\n",
              "      cursor: pointer;\n",
              "      display: none;\n",
              "      fill: #1967D2;\n",
              "      height: 32px;\n",
              "      padding: 0 0 0 0;\n",
              "      width: 32px;\n",
              "    }\n",
              "\n",
              "    .colab-df-convert:hover {\n",
              "      background-color: #E2EBFA;\n",
              "      box-shadow: 0px 1px 2px rgba(60, 64, 67, 0.3), 0px 1px 3px 1px rgba(60, 64, 67, 0.15);\n",
              "      fill: #174EA6;\n",
              "    }\n",
              "\n",
              "    [theme=dark] .colab-df-convert {\n",
              "      background-color: #3B4455;\n",
              "      fill: #D2E3FC;\n",
              "    }\n",
              "\n",
              "    [theme=dark] .colab-df-convert:hover {\n",
              "      background-color: #434B5C;\n",
              "      box-shadow: 0px 1px 3px 1px rgba(0, 0, 0, 0.15);\n",
              "      filter: drop-shadow(0px 1px 2px rgba(0, 0, 0, 0.3));\n",
              "      fill: #FFFFFF;\n",
              "    }\n",
              "  </style>\n",
              "\n",
              "      <script>\n",
              "        const buttonEl =\n",
              "          document.querySelector('#df-f99bd944-6367-4a58-b6c6-969147e369a6 button.colab-df-convert');\n",
              "        buttonEl.style.display =\n",
              "          google.colab.kernel.accessAllowed ? 'block' : 'none';\n",
              "\n",
              "        async function convertToInteractive(key) {\n",
              "          const element = document.querySelector('#df-f99bd944-6367-4a58-b6c6-969147e369a6');\n",
              "          const dataTable =\n",
              "            await google.colab.kernel.invokeFunction('convertToInteractive',\n",
              "                                                     [key], {});\n",
              "          if (!dataTable) return;\n",
              "\n",
              "          const docLinkHtml = 'Like what you see? Visit the ' +\n",
              "            '<a target=\"_blank\" href=https://colab.research.google.com/notebooks/data_table.ipynb>data table notebook</a>'\n",
              "            + ' to learn more about interactive tables.';\n",
              "          element.innerHTML = '';\n",
              "          dataTable['output_type'] = 'display_data';\n",
              "          await google.colab.output.renderOutput(dataTable, element);\n",
              "          const docLink = document.createElement('div');\n",
              "          docLink.innerHTML = docLinkHtml;\n",
              "          element.appendChild(docLink);\n",
              "        }\n",
              "      </script>\n",
              "    </div>\n",
              "  </div>\n",
              "  "
            ]
          },
          "metadata": {},
          "execution_count": 148
        }
      ]
    },
    {
      "cell_type": "markdown",
      "source": [
        "i construct function to builds recommendation charts for particular game with conditions to the 85th percentile instead of 95."
      ],
      "metadata": {
        "id": "1OAejxM74FZL"
      }
    },
    {
      "cell_type": "code",
      "source": [
        "#i doing this to have each unique game name records separately, so that we could build recommendations for each game name \n",
        "\n",
        "s = sd.apply(lambda x: pd.Series(x['Game_name']),axis=1).stack().reset_index(level=1, drop=True)\n",
        "s.name = 'game'\n",
        "gen_sd = sd.drop('Game_name', axis=1).join(s)"
      ],
      "metadata": {
        "id": "5l2y6iJEVMx7"
      },
      "execution_count": 149,
      "outputs": []
    },
    {
      "cell_type": "code",
      "source": [
        "\n",
        "\n",
        "def build_chart(game, percentile=0.85):\n",
        "    df = gen_sd[gen_sd['game'] == game]\n",
        "    Positives = df[df['Positive'].notnull()]['Positive'].astype('float64')\n",
        "    Positive_Rates = df[df['Positive_Rate'].notnull()]['Positive_Rate'].astype('float64')\n",
        "    C = Positive_Rates.mean()\n",
        "    m = Positives.quantile(percentile)\n",
        "    \n",
        "    qualified = df[(df['Positive'] >= m) & (df['Positive'].notnull()) & (df['Positive_Rate'].notnull())][['Positive', 'Negative', 'game', 'Positive_Rate', 'links']]\n",
        "    qualified['Positive'] = qualified['Positive'].astype('float64')\n",
        "    qualified['Positive_Rate'] = qualified['Positive_Rate'].astype('float64')\n",
        "    \n",
        "    qualified['Rate'] = qualified.apply(lambda x: (x['Positive']/(x['Positive']+m) * x['Positive_Rate']) + (m/(m+x['Positive']) * C), axis=1)\n",
        "    qualified = qualified.sort_values('Rate', ascending=False).head(250)\n",
        "    \n",
        "    return qualified\n",
        "\n"
      ],
      "metadata": {
        "id": "LpZIMGwIVR-7"
      },
      "execution_count": 69,
      "outputs": []
    },
    {
      "cell_type": "code",
      "source": [
        "build_chart('Terraria').head()"
      ],
      "metadata": {
        "colab": {
          "base_uri": "https://localhost:8080/",
          "height": 81
        },
        "id": "H9tjz2KtVUAj",
        "outputId": "c042fc2a-858a-4f00-c4c0-e04f353de087"
      },
      "execution_count": 151,
      "outputs": [
        {
          "output_type": "execute_result",
          "data": {
            "text/plain": [
              "   Positive  Negative      game  Positive_Rate  \\\n",
              "4  910629.0     19342  Terraria       0.979202   \n",
              "\n",
              "                                       links      Rate  \n",
              "4  https://store.steampowered.com/app/105600  0.979202  "
            ],
            "text/html": [
              "\n",
              "  <div id=\"df-30a751a2-a33f-4509-8bc3-288472eaa4be\">\n",
              "    <div class=\"colab-df-container\">\n",
              "      <div>\n",
              "<style scoped>\n",
              "    .dataframe tbody tr th:only-of-type {\n",
              "        vertical-align: middle;\n",
              "    }\n",
              "\n",
              "    .dataframe tbody tr th {\n",
              "        vertical-align: top;\n",
              "    }\n",
              "\n",
              "    .dataframe thead th {\n",
              "        text-align: right;\n",
              "    }\n",
              "</style>\n",
              "<table border=\"1\" class=\"dataframe\">\n",
              "  <thead>\n",
              "    <tr style=\"text-align: right;\">\n",
              "      <th></th>\n",
              "      <th>Positive</th>\n",
              "      <th>Negative</th>\n",
              "      <th>game</th>\n",
              "      <th>Positive_Rate</th>\n",
              "      <th>links</th>\n",
              "      <th>Rate</th>\n",
              "    </tr>\n",
              "  </thead>\n",
              "  <tbody>\n",
              "    <tr>\n",
              "      <th>4</th>\n",
              "      <td>910629.0</td>\n",
              "      <td>19342</td>\n",
              "      <td>Terraria</td>\n",
              "      <td>0.979202</td>\n",
              "      <td>https://store.steampowered.com/app/105600</td>\n",
              "      <td>0.979202</td>\n",
              "    </tr>\n",
              "  </tbody>\n",
              "</table>\n",
              "</div>\n",
              "      <button class=\"colab-df-convert\" onclick=\"convertToInteractive('df-30a751a2-a33f-4509-8bc3-288472eaa4be')\"\n",
              "              title=\"Convert this dataframe to an interactive table.\"\n",
              "              style=\"display:none;\">\n",
              "        \n",
              "  <svg xmlns=\"http://www.w3.org/2000/svg\" height=\"24px\"viewBox=\"0 0 24 24\"\n",
              "       width=\"24px\">\n",
              "    <path d=\"M0 0h24v24H0V0z\" fill=\"none\"/>\n",
              "    <path d=\"M18.56 5.44l.94 2.06.94-2.06 2.06-.94-2.06-.94-.94-2.06-.94 2.06-2.06.94zm-11 1L8.5 8.5l.94-2.06 2.06-.94-2.06-.94L8.5 2.5l-.94 2.06-2.06.94zm10 10l.94 2.06.94-2.06 2.06-.94-2.06-.94-.94-2.06-.94 2.06-2.06.94z\"/><path d=\"M17.41 7.96l-1.37-1.37c-.4-.4-.92-.59-1.43-.59-.52 0-1.04.2-1.43.59L10.3 9.45l-7.72 7.72c-.78.78-.78 2.05 0 2.83L4 21.41c.39.39.9.59 1.41.59.51 0 1.02-.2 1.41-.59l7.78-7.78 2.81-2.81c.8-.78.8-2.07 0-2.86zM5.41 20L4 18.59l7.72-7.72 1.47 1.35L5.41 20z\"/>\n",
              "  </svg>\n",
              "      </button>\n",
              "      \n",
              "  <style>\n",
              "    .colab-df-container {\n",
              "      display:flex;\n",
              "      flex-wrap:wrap;\n",
              "      gap: 12px;\n",
              "    }\n",
              "\n",
              "    .colab-df-convert {\n",
              "      background-color: #E8F0FE;\n",
              "      border: none;\n",
              "      border-radius: 50%;\n",
              "      cursor: pointer;\n",
              "      display: none;\n",
              "      fill: #1967D2;\n",
              "      height: 32px;\n",
              "      padding: 0 0 0 0;\n",
              "      width: 32px;\n",
              "    }\n",
              "\n",
              "    .colab-df-convert:hover {\n",
              "      background-color: #E2EBFA;\n",
              "      box-shadow: 0px 1px 2px rgba(60, 64, 67, 0.3), 0px 1px 3px 1px rgba(60, 64, 67, 0.15);\n",
              "      fill: #174EA6;\n",
              "    }\n",
              "\n",
              "    [theme=dark] .colab-df-convert {\n",
              "      background-color: #3B4455;\n",
              "      fill: #D2E3FC;\n",
              "    }\n",
              "\n",
              "    [theme=dark] .colab-df-convert:hover {\n",
              "      background-color: #434B5C;\n",
              "      box-shadow: 0px 1px 3px 1px rgba(0, 0, 0, 0.15);\n",
              "      filter: drop-shadow(0px 1px 2px rgba(0, 0, 0, 0.3));\n",
              "      fill: #FFFFFF;\n",
              "    }\n",
              "  </style>\n",
              "\n",
              "      <script>\n",
              "        const buttonEl =\n",
              "          document.querySelector('#df-30a751a2-a33f-4509-8bc3-288472eaa4be button.colab-df-convert');\n",
              "        buttonEl.style.display =\n",
              "          google.colab.kernel.accessAllowed ? 'block' : 'none';\n",
              "\n",
              "        async function convertToInteractive(key) {\n",
              "          const element = document.querySelector('#df-30a751a2-a33f-4509-8bc3-288472eaa4be');\n",
              "          const dataTable =\n",
              "            await google.colab.kernel.invokeFunction('convertToInteractive',\n",
              "                                                     [key], {});\n",
              "          if (!dataTable) return;\n",
              "\n",
              "          const docLinkHtml = 'Like what you see? Visit the ' +\n",
              "            '<a target=\"_blank\" href=https://colab.research.google.com/notebooks/data_table.ipynb>data table notebook</a>'\n",
              "            + ' to learn more about interactive tables.';\n",
              "          element.innerHTML = '';\n",
              "          dataTable['output_type'] = 'display_data';\n",
              "          await google.colab.output.renderOutput(dataTable, element);\n",
              "          const docLink = document.createElement('div');\n",
              "          docLink.innerHTML = docLinkHtml;\n",
              "          element.appendChild(docLink);\n",
              "        }\n",
              "      </script>\n",
              "    </div>\n",
              "  </div>\n",
              "  "
            ]
          },
          "metadata": {},
          "execution_count": 151
        }
      ]
    },
    {
      "cell_type": "code",
      "source": [
        "\n",
        "build_chart('Portal').head()"
      ],
      "metadata": {
        "colab": {
          "base_uri": "https://localhost:8080/",
          "height": 81
        },
        "id": "gh-LUMTx5NXk",
        "outputId": "145121e3-3f91-467a-bd3a-a3b76ce0a33f"
      },
      "execution_count": 152,
      "outputs": [
        {
          "output_type": "execute_result",
          "data": {
            "text/plain": [
              "   Positive  Negative    game  Positive_Rate  \\\n",
              "1  102805.0      1640  Portal       0.984298   \n",
              "\n",
              "                                    links      Rate  \n",
              "1  https://store.steampowered.com/app/400  0.984298  "
            ],
            "text/html": [
              "\n",
              "  <div id=\"df-83ca496c-1e32-4183-aee7-68942d5a4054\">\n",
              "    <div class=\"colab-df-container\">\n",
              "      <div>\n",
              "<style scoped>\n",
              "    .dataframe tbody tr th:only-of-type {\n",
              "        vertical-align: middle;\n",
              "    }\n",
              "\n",
              "    .dataframe tbody tr th {\n",
              "        vertical-align: top;\n",
              "    }\n",
              "\n",
              "    .dataframe thead th {\n",
              "        text-align: right;\n",
              "    }\n",
              "</style>\n",
              "<table border=\"1\" class=\"dataframe\">\n",
              "  <thead>\n",
              "    <tr style=\"text-align: right;\">\n",
              "      <th></th>\n",
              "      <th>Positive</th>\n",
              "      <th>Negative</th>\n",
              "      <th>game</th>\n",
              "      <th>Positive_Rate</th>\n",
              "      <th>links</th>\n",
              "      <th>Rate</th>\n",
              "    </tr>\n",
              "  </thead>\n",
              "  <tbody>\n",
              "    <tr>\n",
              "      <th>1</th>\n",
              "      <td>102805.0</td>\n",
              "      <td>1640</td>\n",
              "      <td>Portal</td>\n",
              "      <td>0.984298</td>\n",
              "      <td>https://store.steampowered.com/app/400</td>\n",
              "      <td>0.984298</td>\n",
              "    </tr>\n",
              "  </tbody>\n",
              "</table>\n",
              "</div>\n",
              "      <button class=\"colab-df-convert\" onclick=\"convertToInteractive('df-83ca496c-1e32-4183-aee7-68942d5a4054')\"\n",
              "              title=\"Convert this dataframe to an interactive table.\"\n",
              "              style=\"display:none;\">\n",
              "        \n",
              "  <svg xmlns=\"http://www.w3.org/2000/svg\" height=\"24px\"viewBox=\"0 0 24 24\"\n",
              "       width=\"24px\">\n",
              "    <path d=\"M0 0h24v24H0V0z\" fill=\"none\"/>\n",
              "    <path d=\"M18.56 5.44l.94 2.06.94-2.06 2.06-.94-2.06-.94-.94-2.06-.94 2.06-2.06.94zm-11 1L8.5 8.5l.94-2.06 2.06-.94-2.06-.94L8.5 2.5l-.94 2.06-2.06.94zm10 10l.94 2.06.94-2.06 2.06-.94-2.06-.94-.94-2.06-.94 2.06-2.06.94z\"/><path d=\"M17.41 7.96l-1.37-1.37c-.4-.4-.92-.59-1.43-.59-.52 0-1.04.2-1.43.59L10.3 9.45l-7.72 7.72c-.78.78-.78 2.05 0 2.83L4 21.41c.39.39.9.59 1.41.59.51 0 1.02-.2 1.41-.59l7.78-7.78 2.81-2.81c.8-.78.8-2.07 0-2.86zM5.41 20L4 18.59l7.72-7.72 1.47 1.35L5.41 20z\"/>\n",
              "  </svg>\n",
              "      </button>\n",
              "      \n",
              "  <style>\n",
              "    .colab-df-container {\n",
              "      display:flex;\n",
              "      flex-wrap:wrap;\n",
              "      gap: 12px;\n",
              "    }\n",
              "\n",
              "    .colab-df-convert {\n",
              "      background-color: #E8F0FE;\n",
              "      border: none;\n",
              "      border-radius: 50%;\n",
              "      cursor: pointer;\n",
              "      display: none;\n",
              "      fill: #1967D2;\n",
              "      height: 32px;\n",
              "      padding: 0 0 0 0;\n",
              "      width: 32px;\n",
              "    }\n",
              "\n",
              "    .colab-df-convert:hover {\n",
              "      background-color: #E2EBFA;\n",
              "      box-shadow: 0px 1px 2px rgba(60, 64, 67, 0.3), 0px 1px 3px 1px rgba(60, 64, 67, 0.15);\n",
              "      fill: #174EA6;\n",
              "    }\n",
              "\n",
              "    [theme=dark] .colab-df-convert {\n",
              "      background-color: #3B4455;\n",
              "      fill: #D2E3FC;\n",
              "    }\n",
              "\n",
              "    [theme=dark] .colab-df-convert:hover {\n",
              "      background-color: #434B5C;\n",
              "      box-shadow: 0px 1px 3px 1px rgba(0, 0, 0, 0.15);\n",
              "      filter: drop-shadow(0px 1px 2px rgba(0, 0, 0, 0.3));\n",
              "      fill: #FFFFFF;\n",
              "    }\n",
              "  </style>\n",
              "\n",
              "      <script>\n",
              "        const buttonEl =\n",
              "          document.querySelector('#df-83ca496c-1e32-4183-aee7-68942d5a4054 button.colab-df-convert');\n",
              "        buttonEl.style.display =\n",
              "          google.colab.kernel.accessAllowed ? 'block' : 'none';\n",
              "\n",
              "        async function convertToInteractive(key) {\n",
              "          const element = document.querySelector('#df-83ca496c-1e32-4183-aee7-68942d5a4054');\n",
              "          const dataTable =\n",
              "            await google.colab.kernel.invokeFunction('convertToInteractive',\n",
              "                                                     [key], {});\n",
              "          if (!dataTable) return;\n",
              "\n",
              "          const docLinkHtml = 'Like what you see? Visit the ' +\n",
              "            '<a target=\"_blank\" href=https://colab.research.google.com/notebooks/data_table.ipynb>data table notebook</a>'\n",
              "            + ' to learn more about interactive tables.';\n",
              "          element.innerHTML = '';\n",
              "          dataTable['output_type'] = 'display_data';\n",
              "          await google.colab.output.renderOutput(dataTable, element);\n",
              "          const docLink = document.createElement('div');\n",
              "          docLink.innerHTML = docLinkHtml;\n",
              "          element.appendChild(docLink);\n",
              "        }\n",
              "      </script>\n",
              "    </div>\n",
              "  </div>\n",
              "  "
            ]
          },
          "metadata": {},
          "execution_count": 152
        }
      ]
    },
    {
      "cell_type": "code",
      "source": [
        "links_small = pd.read_csv('//content/Steam Dataset.csv')\n",
        "links_small = links_small[links_small['Game_id'].notnull()]['Game_id'].astype('int')\n"
      ],
      "metadata": {
        "id": "9lhgF2_3YgG9"
      },
      "execution_count": 74,
      "outputs": []
    },
    {
      "cell_type": "code",
      "source": [
        "\n",
        "def convert_int(x):\n",
        "    try:\n",
        "        return int(x)\n",
        "    except:\n",
        "        return np.nan\n",
        "\n",
        "sd['Game_id'] = sd['Game_id'].apply(convert_int)\n",
        "print(sd.Game_id.isna().sum())\n",
        "sd = sd.dropna(axis=0, subset=['Game_id'])\n",
        "print(sd.Game_id.isna().sum())\n",
        "\n"
      ],
      "metadata": {
        "colab": {
          "base_uri": "https://localhost:8080/"
        },
        "id": "QYo_VXYpZL7m",
        "outputId": "d3ecf4df-76b9-4a7a-e780-028898031e9d"
      },
      "execution_count": 76,
      "outputs": [
        {
          "output_type": "stream",
          "name": "stdout",
          "text": [
            "0\n",
            "0\n"
          ]
        }
      ]
    },
    {
      "cell_type": "code",
      "source": [
        "smd = sd[sd['Game_id'].isin(links_small)]\n",
        "smd.shape\n"
      ],
      "metadata": {
        "colab": {
          "base_uri": "https://localhost:8080/"
        },
        "id": "-q0rlcvwaDtg",
        "outputId": "206623de-2ab6-4205-dd5b-987f8f6d8a44"
      },
      "execution_count": 79,
      "outputs": [
        {
          "output_type": "execute_result",
          "data": {
            "text/plain": [
              "(100, 7)"
            ]
          },
          "metadata": {},
          "execution_count": 79
        }
      ]
    },
    {
      "cell_type": "code",
      "source": [
        "# we will combine the Positive_Rate with Game_description and  Game_name to create recommendation \n",
        "smd['Positive_Rate'] = smd['Positive_Rate'].astype(str)\n",
        "smd['recommendation'] = \"RATE: \" + smd['Positive_Rate'] +\" description :\" + smd['Game_description'] + smd['Game_name']\n",
        "smd['recommendation'] = smd['recommendation'].fillna('')\n",
        "smd.head()"
      ],
      "metadata": {
        "colab": {
          "base_uri": "https://localhost:8080/",
          "height": 206
        },
        "id": "-jpRXoZ_b9OR",
        "outputId": "ec99b00f-f5e7-4823-ff62-5ab6272705fd"
      },
      "execution_count": 87,
      "outputs": [
        {
          "output_type": "execute_result",
          "data": {
            "text/plain": [
              "   Positive  Negative  Game_id         Game_name       Positive_Rate  \\\n",
              "0    285421      3487      620          Portal 2  0.9879304138341616   \n",
              "1    102805      1640      400            Portal  0.9842979558619368   \n",
              "2    439665      8619   413150    Stardew Valley  0.9807733490376636   \n",
              "3    476762      9701   431960  Wallpaper Engine  0.9800580928045916   \n",
              "4    910629     19342   105600          Terraria    0.97920150198232   \n",
              "\n",
              "                                       links  \\\n",
              "0     https://store.steampowered.com/app/620   \n",
              "1     https://store.steampowered.com/app/400   \n",
              "2  https://store.steampowered.com/app/413150   \n",
              "3  https://store.steampowered.com/app/431960   \n",
              "4  https://store.steampowered.com/app/105600   \n",
              "\n",
              "                                    Game_description  \\\n",
              "0    Portal 2 draws from the awardwinning formula...   \n",
              "1     Portal™ is a new single player game from Va...   \n",
              "2    Stardew Valley is an openended countrylife R...   \n",
              "3    Wallpaper Engine enables you to use live wal...   \n",
              "4    Dig Fight Explore Build  The very world is a...   \n",
              "\n",
              "                                      recommendation  \n",
              "0  RATE: 0.9879304138341616 description :  Portal...  \n",
              "1  RATE: 0.9842979558619368 description :   Porta...  \n",
              "2  RATE: 0.9807733490376636 description :  Starde...  \n",
              "3  RATE: 0.9800580928045916 description :  Wallpa...  \n",
              "4  RATE: 0.97920150198232 description :  Dig Figh...  "
            ],
            "text/html": [
              "\n",
              "  <div id=\"df-37293caa-019c-4841-9c9d-7c79d6c23e4b\">\n",
              "    <div class=\"colab-df-container\">\n",
              "      <div>\n",
              "<style scoped>\n",
              "    .dataframe tbody tr th:only-of-type {\n",
              "        vertical-align: middle;\n",
              "    }\n",
              "\n",
              "    .dataframe tbody tr th {\n",
              "        vertical-align: top;\n",
              "    }\n",
              "\n",
              "    .dataframe thead th {\n",
              "        text-align: right;\n",
              "    }\n",
              "</style>\n",
              "<table border=\"1\" class=\"dataframe\">\n",
              "  <thead>\n",
              "    <tr style=\"text-align: right;\">\n",
              "      <th></th>\n",
              "      <th>Positive</th>\n",
              "      <th>Negative</th>\n",
              "      <th>Game_id</th>\n",
              "      <th>Game_name</th>\n",
              "      <th>Positive_Rate</th>\n",
              "      <th>links</th>\n",
              "      <th>Game_description</th>\n",
              "      <th>recommendation</th>\n",
              "    </tr>\n",
              "  </thead>\n",
              "  <tbody>\n",
              "    <tr>\n",
              "      <th>0</th>\n",
              "      <td>285421</td>\n",
              "      <td>3487</td>\n",
              "      <td>620</td>\n",
              "      <td>Portal 2</td>\n",
              "      <td>0.9879304138341616</td>\n",
              "      <td>https://store.steampowered.com/app/620</td>\n",
              "      <td>Portal 2 draws from the awardwinning formula...</td>\n",
              "      <td>RATE: 0.9879304138341616 description :  Portal...</td>\n",
              "    </tr>\n",
              "    <tr>\n",
              "      <th>1</th>\n",
              "      <td>102805</td>\n",
              "      <td>1640</td>\n",
              "      <td>400</td>\n",
              "      <td>Portal</td>\n",
              "      <td>0.9842979558619368</td>\n",
              "      <td>https://store.steampowered.com/app/400</td>\n",
              "      <td>Portal™ is a new single player game from Va...</td>\n",
              "      <td>RATE: 0.9842979558619368 description :   Porta...</td>\n",
              "    </tr>\n",
              "    <tr>\n",
              "      <th>2</th>\n",
              "      <td>439665</td>\n",
              "      <td>8619</td>\n",
              "      <td>413150</td>\n",
              "      <td>Stardew Valley</td>\n",
              "      <td>0.9807733490376636</td>\n",
              "      <td>https://store.steampowered.com/app/413150</td>\n",
              "      <td>Stardew Valley is an openended countrylife R...</td>\n",
              "      <td>RATE: 0.9807733490376636 description :  Starde...</td>\n",
              "    </tr>\n",
              "    <tr>\n",
              "      <th>3</th>\n",
              "      <td>476762</td>\n",
              "      <td>9701</td>\n",
              "      <td>431960</td>\n",
              "      <td>Wallpaper Engine</td>\n",
              "      <td>0.9800580928045916</td>\n",
              "      <td>https://store.steampowered.com/app/431960</td>\n",
              "      <td>Wallpaper Engine enables you to use live wal...</td>\n",
              "      <td>RATE: 0.9800580928045916 description :  Wallpa...</td>\n",
              "    </tr>\n",
              "    <tr>\n",
              "      <th>4</th>\n",
              "      <td>910629</td>\n",
              "      <td>19342</td>\n",
              "      <td>105600</td>\n",
              "      <td>Terraria</td>\n",
              "      <td>0.97920150198232</td>\n",
              "      <td>https://store.steampowered.com/app/105600</td>\n",
              "      <td>Dig Fight Explore Build  The very world is a...</td>\n",
              "      <td>RATE: 0.97920150198232 description :  Dig Figh...</td>\n",
              "    </tr>\n",
              "  </tbody>\n",
              "</table>\n",
              "</div>\n",
              "      <button class=\"colab-df-convert\" onclick=\"convertToInteractive('df-37293caa-019c-4841-9c9d-7c79d6c23e4b')\"\n",
              "              title=\"Convert this dataframe to an interactive table.\"\n",
              "              style=\"display:none;\">\n",
              "        \n",
              "  <svg xmlns=\"http://www.w3.org/2000/svg\" height=\"24px\"viewBox=\"0 0 24 24\"\n",
              "       width=\"24px\">\n",
              "    <path d=\"M0 0h24v24H0V0z\" fill=\"none\"/>\n",
              "    <path d=\"M18.56 5.44l.94 2.06.94-2.06 2.06-.94-2.06-.94-.94-2.06-.94 2.06-2.06.94zm-11 1L8.5 8.5l.94-2.06 2.06-.94-2.06-.94L8.5 2.5l-.94 2.06-2.06.94zm10 10l.94 2.06.94-2.06 2.06-.94-2.06-.94-.94-2.06-.94 2.06-2.06.94z\"/><path d=\"M17.41 7.96l-1.37-1.37c-.4-.4-.92-.59-1.43-.59-.52 0-1.04.2-1.43.59L10.3 9.45l-7.72 7.72c-.78.78-.78 2.05 0 2.83L4 21.41c.39.39.9.59 1.41.59.51 0 1.02-.2 1.41-.59l7.78-7.78 2.81-2.81c.8-.78.8-2.07 0-2.86zM5.41 20L4 18.59l7.72-7.72 1.47 1.35L5.41 20z\"/>\n",
              "  </svg>\n",
              "      </button>\n",
              "      \n",
              "  <style>\n",
              "    .colab-df-container {\n",
              "      display:flex;\n",
              "      flex-wrap:wrap;\n",
              "      gap: 12px;\n",
              "    }\n",
              "\n",
              "    .colab-df-convert {\n",
              "      background-color: #E8F0FE;\n",
              "      border: none;\n",
              "      border-radius: 50%;\n",
              "      cursor: pointer;\n",
              "      display: none;\n",
              "      fill: #1967D2;\n",
              "      height: 32px;\n",
              "      padding: 0 0 0 0;\n",
              "      width: 32px;\n",
              "    }\n",
              "\n",
              "    .colab-df-convert:hover {\n",
              "      background-color: #E2EBFA;\n",
              "      box-shadow: 0px 1px 2px rgba(60, 64, 67, 0.3), 0px 1px 3px 1px rgba(60, 64, 67, 0.15);\n",
              "      fill: #174EA6;\n",
              "    }\n",
              "\n",
              "    [theme=dark] .colab-df-convert {\n",
              "      background-color: #3B4455;\n",
              "      fill: #D2E3FC;\n",
              "    }\n",
              "\n",
              "    [theme=dark] .colab-df-convert:hover {\n",
              "      background-color: #434B5C;\n",
              "      box-shadow: 0px 1px 3px 1px rgba(0, 0, 0, 0.15);\n",
              "      filter: drop-shadow(0px 1px 2px rgba(0, 0, 0, 0.3));\n",
              "      fill: #FFFFFF;\n",
              "    }\n",
              "  </style>\n",
              "\n",
              "      <script>\n",
              "        const buttonEl =\n",
              "          document.querySelector('#df-37293caa-019c-4841-9c9d-7c79d6c23e4b button.colab-df-convert');\n",
              "        buttonEl.style.display =\n",
              "          google.colab.kernel.accessAllowed ? 'block' : 'none';\n",
              "\n",
              "        async function convertToInteractive(key) {\n",
              "          const element = document.querySelector('#df-37293caa-019c-4841-9c9d-7c79d6c23e4b');\n",
              "          const dataTable =\n",
              "            await google.colab.kernel.invokeFunction('convertToInteractive',\n",
              "                                                     [key], {});\n",
              "          if (!dataTable) return;\n",
              "\n",
              "          const docLinkHtml = 'Like what you see? Visit the ' +\n",
              "            '<a target=\"_blank\" href=https://colab.research.google.com/notebooks/data_table.ipynb>data table notebook</a>'\n",
              "            + ' to learn more about interactive tables.';\n",
              "          element.innerHTML = '';\n",
              "          dataTable['output_type'] = 'display_data';\n",
              "          await google.colab.output.renderOutput(dataTable, element);\n",
              "          const docLink = document.createElement('div');\n",
              "          docLink.innerHTML = docLinkHtml;\n",
              "          element.appendChild(docLink);\n",
              "        }\n",
              "      </script>\n",
              "    </div>\n",
              "  </div>\n",
              "  "
            ]
          },
          "metadata": {},
          "execution_count": 87
        }
      ]
    },
    {
      "cell_type": "code",
      "source": [
        "tf = TfidfVectorizer(analyzer='word',ngram_range=(1, 2),min_df=0, stop_words='english')\n",
        "tfidf_matrix = tf.fit_transform(smd['recommendation'])"
      ],
      "metadata": {
        "id": "pT2q--cQeFk0"
      },
      "execution_count": 88,
      "outputs": []
    },
    {
      "cell_type": "code",
      "source": [
        "tfidf_matrix.shape"
      ],
      "metadata": {
        "colab": {
          "base_uri": "https://localhost:8080/"
        },
        "id": "BQGxdpOVeaDW",
        "outputId": "18f94f10-cc7c-40f9-ab9b-18b85498df4f"
      },
      "execution_count": 89,
      "outputs": [
        {
          "output_type": "execute_result",
          "data": {
            "text/plain": [
              "(100, 20520)"
            ]
          },
          "metadata": {},
          "execution_count": 89
        }
      ]
    },
    {
      "cell_type": "code",
      "source": [
        "cosine_sim = linear_kernel(tfidf_matrix, tfidf_matrix)"
      ],
      "metadata": {
        "id": "E4EU25rWeook"
      },
      "execution_count": 90,
      "outputs": []
    },
    {
      "cell_type": "code",
      "source": [
        "print(cosine_sim.shape)\n",
        "print(cosine_sim[0])"
      ],
      "metadata": {
        "colab": {
          "base_uri": "https://localhost:8080/"
        },
        "id": "W2e3oDPMeqv7",
        "outputId": "432e5761-2f1f-4c8d-9523-f4384f940626"
      },
      "execution_count": 91,
      "outputs": [
        {
          "output_type": "stream",
          "name": "stdout",
          "text": [
            "(100, 100)\n",
            "[1.00000000e+00 1.72164666e-01 2.75949919e-02 1.55862601e-02\n",
            " 1.65261776e-02 2.15409486e-02 1.05628968e-02 1.75828718e-02\n",
            " 5.08222068e-02 1.56145969e-02 2.23261862e-02 4.91588778e-02\n",
            " 1.88130043e-02 1.15614691e-02 1.49547115e-02 2.51017371e-02\n",
            " 2.25383983e-02 1.32387137e-02 1.71440070e-02 3.79563114e-02\n",
            " 3.49562046e-02 7.55738086e-03 2.29027660e-02 1.84586768e-02\n",
            " 1.36808033e-02 8.82375035e-03 3.83731920e-02 1.34552377e-02\n",
            " 1.62172062e-02 1.77400018e-02 7.27719148e-03 6.13127237e-02\n",
            " 2.72370087e-02 1.44989036e-02 1.15830040e-02 4.05494316e-02\n",
            " 2.44898100e-02 6.96160372e-04 3.96995571e-02 1.62244342e-02\n",
            " 2.08501978e-02 3.65532244e-02 1.18978185e-02 1.49589175e-02\n",
            " 2.60778690e-02 1.80807872e-02 6.04139269e-03 1.95106328e-02\n",
            " 2.40899824e-02 1.40374213e-02 3.19582988e-02 1.31171917e-02\n",
            " 1.84668186e-02 7.36090980e-03 2.21749242e-02 1.70955273e-02\n",
            " 2.37349991e-02 1.43965326e-02 1.67558763e-02 1.80047336e-02\n",
            " 2.39742463e-02 2.46422696e-02 4.17580613e-02 2.19103305e-02\n",
            " 2.19033850e-02 1.41101281e-02 1.32261399e-02 1.00856579e-02\n",
            " 1.72585681e-02 1.48652299e-02 1.21920386e-02 9.96260218e-03\n",
            " 1.46654475e-02 2.25382568e-02 1.79728059e-02 1.87522420e-02\n",
            " 6.90027608e-03 1.94379582e-03 1.51666506e-02 1.59805344e-02\n",
            " 1.73859379e-02 1.79455423e-02 3.26728220e-02 1.78889194e-02\n",
            " 2.00120755e-02 8.92197499e-03 7.53480999e-03 1.51246209e-02\n",
            " 1.57383957e-02 1.76811250e-02 1.02462795e-02 1.03069500e-02\n",
            " 4.00716437e-02 1.81030464e-02 2.47402714e-02 1.71475375e-02\n",
            " 1.28221561e-02 2.31972862e-02 3.73010857e-02 2.63617809e-02]\n"
          ]
        }
      ]
    },
    {
      "cell_type": "code",
      "source": [
        "smd = smd.reset_index()\n",
        "GameName = smd['Game_name']\n",
        "indices = pd.Series(smd.index, index=smd['Game_name'])"
      ],
      "metadata": {
        "id": "pAdjraFvesZa"
      },
      "execution_count": 92,
      "outputs": []
    },
    {
      "cell_type": "code",
      "source": [
        "def get_recommendations(Game_name):\n",
        "    idx = indices[Game_name]\n",
        "    sim_scores = list(enumerate(cosine_sim[idx]))\n",
        "    sim_scores = sorted(sim_scores, key=lambda x: x[1], reverse=True)\n",
        "    sim_scores = sim_scores[1:31] \n",
        "    game_indices = [i[0] for i in sim_scores]\n",
        "    return GameName.iloc[game_indices]"
      ],
      "metadata": {
        "id": "Wf5P6sHogZ0u"
      },
      "execution_count": 156,
      "outputs": []
    },
    {
      "cell_type": "code",
      "source": [
        "get_recommendations('Portal').head(10)"
      ],
      "metadata": {
        "colab": {
          "base_uri": "https://localhost:8080/"
        },
        "id": "VBiMy-aogjEo",
        "outputId": "062d1e16-b740-46c3-91cb-1480cbabc324"
      },
      "execution_count": 101,
      "outputs": [
        {
          "output_type": "execute_result",
          "data": {
            "text/plain": [
              "0                             Portal 2\n",
              "8                        Left 4 Dead 2\n",
              "38      Counter-Strike: Condition Zero\n",
              "31      Call of Duty: Modern Warfare 2\n",
              "19           Half-Life: Opposing Force\n",
              "48    Counter-Strike: Global Offensive\n",
              "26                       Borderlands 2\n",
              "52                 The Tiny Bang Story\n",
              "2                       Stardew Valley\n",
              "16          Sid Meier's Civilization V\n",
              "Name: Game_name, dtype: object"
            ]
          },
          "metadata": {},
          "execution_count": 101
        }
      ]
    },
    {
      "cell_type": "code",
      "source": [
        "\n",
        "get_recommendations('Wallpaper Engine').head(10)"
      ],
      "metadata": {
        "colab": {
          "base_uri": "https://localhost:8080/"
        },
        "id": "9X92Kai_hAvn",
        "outputId": "9b578f15-04ff-4fa7-917a-0bb861f8817f"
      },
      "execution_count": 104,
      "outputs": [
        {
          "output_type": "execute_result",
          "data": {
            "text/plain": [
              "68                           ARK: Survival Evolved\n",
              "41                                          Arma 3\n",
              "32    Guacamelee! Super Turbo Championship Edition\n",
              "29                                Cities: Skylines\n",
              "61                                      Brawlhalla\n",
              "36                                        Unturned\n",
              "6                           Euro Truck Simulator 2\n",
              "20                                     Dying Light\n",
              "24                                Human: Fall Flat\n",
              "23                     The Elder Scrolls V: Skyrim\n",
              "Name: Game_name, dtype: object"
            ]
          },
          "metadata": {},
          "execution_count": 104
        }
      ]
    },
    {
      "cell_type": "code",
      "source": [
        "\n",
        "reader = Reader()\n",
        "con=0\n",
        "\n",
        "ratings = sd\n",
        "ratings['UserId'] = np.random.randint(1,30000, ratings.shape[0])\n",
        "ratings.head()"
      ],
      "metadata": {
        "colab": {
          "base_uri": "https://localhost:8080/",
          "height": 206
        },
        "id": "V8nlPgRThSn1",
        "outputId": "5b483507-6617-47b6-c9a7-ce50a3a08f59"
      },
      "execution_count": 116,
      "outputs": [
        {
          "output_type": "execute_result",
          "data": {
            "text/plain": [
              "   Positive  Negative  Game_id         Game_name  Positive_Rate  \\\n",
              "0    285421      3487      620          Portal 2       0.987930   \n",
              "1    102805      1640      400            Portal       0.984298   \n",
              "2    439665      8619   413150    Stardew Valley       0.980773   \n",
              "3    476762      9701   431960  Wallpaper Engine       0.980058   \n",
              "4    910629     19342   105600          Terraria       0.979202   \n",
              "\n",
              "                                       links  \\\n",
              "0     https://store.steampowered.com/app/620   \n",
              "1     https://store.steampowered.com/app/400   \n",
              "2  https://store.steampowered.com/app/413150   \n",
              "3  https://store.steampowered.com/app/431960   \n",
              "4  https://store.steampowered.com/app/105600   \n",
              "\n",
              "                                    Game_description  UserId  \n",
              "0    Portal 2 draws from the awardwinning formula...    2722  \n",
              "1     Portal™ is a new single player game from Va...   23049  \n",
              "2    Stardew Valley is an openended countrylife R...    3597  \n",
              "3    Wallpaper Engine enables you to use live wal...   29518  \n",
              "4    Dig Fight Explore Build  The very world is a...   24867  "
            ],
            "text/html": [
              "\n",
              "  <div id=\"df-075e706a-639d-469e-9142-a75b9c328348\">\n",
              "    <div class=\"colab-df-container\">\n",
              "      <div>\n",
              "<style scoped>\n",
              "    .dataframe tbody tr th:only-of-type {\n",
              "        vertical-align: middle;\n",
              "    }\n",
              "\n",
              "    .dataframe tbody tr th {\n",
              "        vertical-align: top;\n",
              "    }\n",
              "\n",
              "    .dataframe thead th {\n",
              "        text-align: right;\n",
              "    }\n",
              "</style>\n",
              "<table border=\"1\" class=\"dataframe\">\n",
              "  <thead>\n",
              "    <tr style=\"text-align: right;\">\n",
              "      <th></th>\n",
              "      <th>Positive</th>\n",
              "      <th>Negative</th>\n",
              "      <th>Game_id</th>\n",
              "      <th>Game_name</th>\n",
              "      <th>Positive_Rate</th>\n",
              "      <th>links</th>\n",
              "      <th>Game_description</th>\n",
              "      <th>UserId</th>\n",
              "    </tr>\n",
              "  </thead>\n",
              "  <tbody>\n",
              "    <tr>\n",
              "      <th>0</th>\n",
              "      <td>285421</td>\n",
              "      <td>3487</td>\n",
              "      <td>620</td>\n",
              "      <td>Portal 2</td>\n",
              "      <td>0.987930</td>\n",
              "      <td>https://store.steampowered.com/app/620</td>\n",
              "      <td>Portal 2 draws from the awardwinning formula...</td>\n",
              "      <td>2722</td>\n",
              "    </tr>\n",
              "    <tr>\n",
              "      <th>1</th>\n",
              "      <td>102805</td>\n",
              "      <td>1640</td>\n",
              "      <td>400</td>\n",
              "      <td>Portal</td>\n",
              "      <td>0.984298</td>\n",
              "      <td>https://store.steampowered.com/app/400</td>\n",
              "      <td>Portal™ is a new single player game from Va...</td>\n",
              "      <td>23049</td>\n",
              "    </tr>\n",
              "    <tr>\n",
              "      <th>2</th>\n",
              "      <td>439665</td>\n",
              "      <td>8619</td>\n",
              "      <td>413150</td>\n",
              "      <td>Stardew Valley</td>\n",
              "      <td>0.980773</td>\n",
              "      <td>https://store.steampowered.com/app/413150</td>\n",
              "      <td>Stardew Valley is an openended countrylife R...</td>\n",
              "      <td>3597</td>\n",
              "    </tr>\n",
              "    <tr>\n",
              "      <th>3</th>\n",
              "      <td>476762</td>\n",
              "      <td>9701</td>\n",
              "      <td>431960</td>\n",
              "      <td>Wallpaper Engine</td>\n",
              "      <td>0.980058</td>\n",
              "      <td>https://store.steampowered.com/app/431960</td>\n",
              "      <td>Wallpaper Engine enables you to use live wal...</td>\n",
              "      <td>29518</td>\n",
              "    </tr>\n",
              "    <tr>\n",
              "      <th>4</th>\n",
              "      <td>910629</td>\n",
              "      <td>19342</td>\n",
              "      <td>105600</td>\n",
              "      <td>Terraria</td>\n",
              "      <td>0.979202</td>\n",
              "      <td>https://store.steampowered.com/app/105600</td>\n",
              "      <td>Dig Fight Explore Build  The very world is a...</td>\n",
              "      <td>24867</td>\n",
              "    </tr>\n",
              "  </tbody>\n",
              "</table>\n",
              "</div>\n",
              "      <button class=\"colab-df-convert\" onclick=\"convertToInteractive('df-075e706a-639d-469e-9142-a75b9c328348')\"\n",
              "              title=\"Convert this dataframe to an interactive table.\"\n",
              "              style=\"display:none;\">\n",
              "        \n",
              "  <svg xmlns=\"http://www.w3.org/2000/svg\" height=\"24px\"viewBox=\"0 0 24 24\"\n",
              "       width=\"24px\">\n",
              "    <path d=\"M0 0h24v24H0V0z\" fill=\"none\"/>\n",
              "    <path d=\"M18.56 5.44l.94 2.06.94-2.06 2.06-.94-2.06-.94-.94-2.06-.94 2.06-2.06.94zm-11 1L8.5 8.5l.94-2.06 2.06-.94-2.06-.94L8.5 2.5l-.94 2.06-2.06.94zm10 10l.94 2.06.94-2.06 2.06-.94-2.06-.94-.94-2.06-.94 2.06-2.06.94z\"/><path d=\"M17.41 7.96l-1.37-1.37c-.4-.4-.92-.59-1.43-.59-.52 0-1.04.2-1.43.59L10.3 9.45l-7.72 7.72c-.78.78-.78 2.05 0 2.83L4 21.41c.39.39.9.59 1.41.59.51 0 1.02-.2 1.41-.59l7.78-7.78 2.81-2.81c.8-.78.8-2.07 0-2.86zM5.41 20L4 18.59l7.72-7.72 1.47 1.35L5.41 20z\"/>\n",
              "  </svg>\n",
              "      </button>\n",
              "      \n",
              "  <style>\n",
              "    .colab-df-container {\n",
              "      display:flex;\n",
              "      flex-wrap:wrap;\n",
              "      gap: 12px;\n",
              "    }\n",
              "\n",
              "    .colab-df-convert {\n",
              "      background-color: #E8F0FE;\n",
              "      border: none;\n",
              "      border-radius: 50%;\n",
              "      cursor: pointer;\n",
              "      display: none;\n",
              "      fill: #1967D2;\n",
              "      height: 32px;\n",
              "      padding: 0 0 0 0;\n",
              "      width: 32px;\n",
              "    }\n",
              "\n",
              "    .colab-df-convert:hover {\n",
              "      background-color: #E2EBFA;\n",
              "      box-shadow: 0px 1px 2px rgba(60, 64, 67, 0.3), 0px 1px 3px 1px rgba(60, 64, 67, 0.15);\n",
              "      fill: #174EA6;\n",
              "    }\n",
              "\n",
              "    [theme=dark] .colab-df-convert {\n",
              "      background-color: #3B4455;\n",
              "      fill: #D2E3FC;\n",
              "    }\n",
              "\n",
              "    [theme=dark] .colab-df-convert:hover {\n",
              "      background-color: #434B5C;\n",
              "      box-shadow: 0px 1px 3px 1px rgba(0, 0, 0, 0.15);\n",
              "      filter: drop-shadow(0px 1px 2px rgba(0, 0, 0, 0.3));\n",
              "      fill: #FFFFFF;\n",
              "    }\n",
              "  </style>\n",
              "\n",
              "      <script>\n",
              "        const buttonEl =\n",
              "          document.querySelector('#df-075e706a-639d-469e-9142-a75b9c328348 button.colab-df-convert');\n",
              "        buttonEl.style.display =\n",
              "          google.colab.kernel.accessAllowed ? 'block' : 'none';\n",
              "\n",
              "        async function convertToInteractive(key) {\n",
              "          const element = document.querySelector('#df-075e706a-639d-469e-9142-a75b9c328348');\n",
              "          const dataTable =\n",
              "            await google.colab.kernel.invokeFunction('convertToInteractive',\n",
              "                                                     [key], {});\n",
              "          if (!dataTable) return;\n",
              "\n",
              "          const docLinkHtml = 'Like what you see? Visit the ' +\n",
              "            '<a target=\"_blank\" href=https://colab.research.google.com/notebooks/data_table.ipynb>data table notebook</a>'\n",
              "            + ' to learn more about interactive tables.';\n",
              "          element.innerHTML = '';\n",
              "          dataTable['output_type'] = 'display_data';\n",
              "          await google.colab.output.renderOutput(dataTable, element);\n",
              "          const docLink = document.createElement('div');\n",
              "          docLink.innerHTML = docLinkHtml;\n",
              "          element.appendChild(docLink);\n",
              "        }\n",
              "      </script>\n",
              "    </div>\n",
              "  </div>\n",
              "  "
            ]
          },
          "metadata": {},
          "execution_count": 116
        }
      ]
    },
    {
      "cell_type": "code",
      "source": [
        "sum(ratings['UserId'].duplicated())\n"
      ],
      "metadata": {
        "colab": {
          "base_uri": "https://localhost:8080/"
        },
        "id": "5Qcb2qelwQdW",
        "outputId": "004a826d-bda5-4482-f694-70cda3275dc2"
      },
      "execution_count": 117,
      "outputs": [
        {
          "output_type": "execute_result",
          "data": {
            "text/plain": [
              "0"
            ]
          },
          "metadata": {},
          "execution_count": 117
        }
      ]
    },
    {
      "cell_type": "code",
      "source": [
        "data = Dataset.load_from_df(ratings[['Game_id', 'Positive_Rate','UserId']], reader)"
      ],
      "metadata": {
        "id": "Yp5-blA5wkmi"
      },
      "execution_count": 118,
      "outputs": []
    },
    {
      "cell_type": "code",
      "source": [
        "ratings['Positive_Rate'] = ratings['Positive_Rate'].astype('float64')"
      ],
      "metadata": {
        "id": "AkYwT7R_wnWj"
      },
      "execution_count": 119,
      "outputs": []
    },
    {
      "cell_type": "code",
      "source": [
        "svd = SVD()\n",
        "cross_validate(svd, data,cv=5, measures=['RMSE', 'MAE'])"
      ],
      "metadata": {
        "colab": {
          "base_uri": "https://localhost:8080/"
        },
        "id": "SASG0UgDwpGN",
        "outputId": "4dcabf8d-89d3-4c8b-e788-6d623c12cf9c"
      },
      "execution_count": 120,
      "outputs": [
        {
          "output_type": "execute_result",
          "data": {
            "text/plain": [
              "{'test_rmse': array([18585.94495714, 16545.68961694, 14934.78330944, 15827.59129495,\n",
              "        16062.5048358 ]),\n",
              " 'test_mae': array([16179.25, 14099.  , 12976.3 , 13876.5 , 14540.5 ]),\n",
              " 'fit_time': (0.0209805965423584,\n",
              "  0.025957822799682617,\n",
              "  0.012965679168701172,\n",
              "  0.025681734085083008,\n",
              "  0.009088516235351562),\n",
              " 'test_time': (0.0003986358642578125,\n",
              "  0.00037670135498046875,\n",
              "  0.00041222572326660156,\n",
              "  0.00044035911560058594,\n",
              "  0.0003948211669921875)}"
            ]
          },
          "metadata": {},
          "execution_count": 120
        }
      ]
    },
    {
      "cell_type": "code",
      "source": [
        "trainset = data.build_full_trainset()\n",
        "svd.fit(trainset)"
      ],
      "metadata": {
        "colab": {
          "base_uri": "https://localhost:8080/"
        },
        "id": "81tvG7GgwrDt",
        "outputId": "0b2b513b-03c3-4faf-f560-bc2b40e0e358"
      },
      "execution_count": 121,
      "outputs": [
        {
          "output_type": "execute_result",
          "data": {
            "text/plain": [
              "<surprise.prediction_algorithms.matrix_factorization.SVD at 0x7f009150bf50>"
            ]
          },
          "metadata": {},
          "execution_count": 121
        }
      ]
    },
    {
      "cell_type": "code",
      "source": [
        "\n",
        "ratings_1 = ratings[ratings['UserId'] == 23049]\n",
        "ratings_1.rename(columns={'Game_id':'id'},inplace=True)\n",
        "ratings_1.dropna(inplace=True)\n",
        "ratings_1"
      ],
      "metadata": {
        "colab": {
          "base_uri": "https://localhost:8080/",
          "height": 81
        },
        "id": "5oIn1lMSws1d",
        "outputId": "133b096a-be0d-4b2d-92c3-8c77d752f6cf"
      },
      "execution_count": 124,
      "outputs": [
        {
          "output_type": "execute_result",
          "data": {
            "text/plain": [
              "   Positive  Negative   id Game_name  Positive_Rate  \\\n",
              "1    102805      1640  400    Portal       0.984298   \n",
              "\n",
              "                                    links  \\\n",
              "1  https://store.steampowered.com/app/400   \n",
              "\n",
              "                                    Game_description  UserId  \n",
              "1     Portal™ is a new single player game from Va...   23049  "
            ],
            "text/html": [
              "\n",
              "  <div id=\"df-53f066de-e757-4b4b-9e9f-e1295512d851\">\n",
              "    <div class=\"colab-df-container\">\n",
              "      <div>\n",
              "<style scoped>\n",
              "    .dataframe tbody tr th:only-of-type {\n",
              "        vertical-align: middle;\n",
              "    }\n",
              "\n",
              "    .dataframe tbody tr th {\n",
              "        vertical-align: top;\n",
              "    }\n",
              "\n",
              "    .dataframe thead th {\n",
              "        text-align: right;\n",
              "    }\n",
              "</style>\n",
              "<table border=\"1\" class=\"dataframe\">\n",
              "  <thead>\n",
              "    <tr style=\"text-align: right;\">\n",
              "      <th></th>\n",
              "      <th>Positive</th>\n",
              "      <th>Negative</th>\n",
              "      <th>id</th>\n",
              "      <th>Game_name</th>\n",
              "      <th>Positive_Rate</th>\n",
              "      <th>links</th>\n",
              "      <th>Game_description</th>\n",
              "      <th>UserId</th>\n",
              "    </tr>\n",
              "  </thead>\n",
              "  <tbody>\n",
              "    <tr>\n",
              "      <th>1</th>\n",
              "      <td>102805</td>\n",
              "      <td>1640</td>\n",
              "      <td>400</td>\n",
              "      <td>Portal</td>\n",
              "      <td>0.984298</td>\n",
              "      <td>https://store.steampowered.com/app/400</td>\n",
              "      <td>Portal™ is a new single player game from Va...</td>\n",
              "      <td>23049</td>\n",
              "    </tr>\n",
              "  </tbody>\n",
              "</table>\n",
              "</div>\n",
              "      <button class=\"colab-df-convert\" onclick=\"convertToInteractive('df-53f066de-e757-4b4b-9e9f-e1295512d851')\"\n",
              "              title=\"Convert this dataframe to an interactive table.\"\n",
              "              style=\"display:none;\">\n",
              "        \n",
              "  <svg xmlns=\"http://www.w3.org/2000/svg\" height=\"24px\"viewBox=\"0 0 24 24\"\n",
              "       width=\"24px\">\n",
              "    <path d=\"M0 0h24v24H0V0z\" fill=\"none\"/>\n",
              "    <path d=\"M18.56 5.44l.94 2.06.94-2.06 2.06-.94-2.06-.94-.94-2.06-.94 2.06-2.06.94zm-11 1L8.5 8.5l.94-2.06 2.06-.94-2.06-.94L8.5 2.5l-.94 2.06-2.06.94zm10 10l.94 2.06.94-2.06 2.06-.94-2.06-.94-.94-2.06-.94 2.06-2.06.94z\"/><path d=\"M17.41 7.96l-1.37-1.37c-.4-.4-.92-.59-1.43-.59-.52 0-1.04.2-1.43.59L10.3 9.45l-7.72 7.72c-.78.78-.78 2.05 0 2.83L4 21.41c.39.39.9.59 1.41.59.51 0 1.02-.2 1.41-.59l7.78-7.78 2.81-2.81c.8-.78.8-2.07 0-2.86zM5.41 20L4 18.59l7.72-7.72 1.47 1.35L5.41 20z\"/>\n",
              "  </svg>\n",
              "      </button>\n",
              "      \n",
              "  <style>\n",
              "    .colab-df-container {\n",
              "      display:flex;\n",
              "      flex-wrap:wrap;\n",
              "      gap: 12px;\n",
              "    }\n",
              "\n",
              "    .colab-df-convert {\n",
              "      background-color: #E8F0FE;\n",
              "      border: none;\n",
              "      border-radius: 50%;\n",
              "      cursor: pointer;\n",
              "      display: none;\n",
              "      fill: #1967D2;\n",
              "      height: 32px;\n",
              "      padding: 0 0 0 0;\n",
              "      width: 32px;\n",
              "    }\n",
              "\n",
              "    .colab-df-convert:hover {\n",
              "      background-color: #E2EBFA;\n",
              "      box-shadow: 0px 1px 2px rgba(60, 64, 67, 0.3), 0px 1px 3px 1px rgba(60, 64, 67, 0.15);\n",
              "      fill: #174EA6;\n",
              "    }\n",
              "\n",
              "    [theme=dark] .colab-df-convert {\n",
              "      background-color: #3B4455;\n",
              "      fill: #D2E3FC;\n",
              "    }\n",
              "\n",
              "    [theme=dark] .colab-df-convert:hover {\n",
              "      background-color: #434B5C;\n",
              "      box-shadow: 0px 1px 3px 1px rgba(0, 0, 0, 0.15);\n",
              "      filter: drop-shadow(0px 1px 2px rgba(0, 0, 0, 0.3));\n",
              "      fill: #FFFFFF;\n",
              "    }\n",
              "  </style>\n",
              "\n",
              "      <script>\n",
              "        const buttonEl =\n",
              "          document.querySelector('#df-53f066de-e757-4b4b-9e9f-e1295512d851 button.colab-df-convert');\n",
              "        buttonEl.style.display =\n",
              "          google.colab.kernel.accessAllowed ? 'block' : 'none';\n",
              "\n",
              "        async function convertToInteractive(key) {\n",
              "          const element = document.querySelector('#df-53f066de-e757-4b4b-9e9f-e1295512d851');\n",
              "          const dataTable =\n",
              "            await google.colab.kernel.invokeFunction('convertToInteractive',\n",
              "                                                     [key], {});\n",
              "          if (!dataTable) return;\n",
              "\n",
              "          const docLinkHtml = 'Like what you see? Visit the ' +\n",
              "            '<a target=\"_blank\" href=https://colab.research.google.com/notebooks/data_table.ipynb>data table notebook</a>'\n",
              "            + ' to learn more about interactive tables.';\n",
              "          element.innerHTML = '';\n",
              "          dataTable['output_type'] = 'display_data';\n",
              "          await google.colab.output.renderOutput(dataTable, element);\n",
              "          const docLink = document.createElement('div');\n",
              "          docLink.innerHTML = docLinkHtml;\n",
              "          element.appendChild(docLink);\n",
              "        }\n",
              "      </script>\n",
              "    </div>\n",
              "  </div>\n",
              "  "
            ]
          },
          "metadata": {},
          "execution_count": 124
        }
      ]
    },
    {
      "cell_type": "code",
      "source": [
        "ratings_pred = []\n",
        "for index, row in ratings_1.iterrows():\n",
        "  pred = svd.predict(row['id'],row['id'])\n",
        "  ratings_pred.append(pred[3])\n",
        "ratings_1['predicted_rating']= ratings_pred"
      ],
      "metadata": {
        "id": "LS6AkjGixI06"
      },
      "execution_count": 132,
      "outputs": []
    },
    {
      "cell_type": "code",
      "source": [
        "ratings_1['Positive_Rate'] = ratings_1['Positive_Rate'].astype('float64')\n",
        "error = np.abs(ratings_1['predicted_rating']-ratings_1['Positive_Rate']) \n",
        "error_perc = (error/ratings_1['Positive_Rate'])*100\n",
        "ratings_1['rating_error'] = error\n",
        "ratings_1['rating_error_percentage']= error_perc\n",
        "ratings_1"
      ],
      "metadata": {
        "colab": {
          "base_uri": "https://localhost:8080/",
          "height": 81
        },
        "id": "5UjmuJ3BxKQt",
        "outputId": "8a797cc9-a679-40fa-97ab-01201ad7c0e4"
      },
      "execution_count": 133,
      "outputs": [
        {
          "output_type": "execute_result",
          "data": {
            "text/plain": [
              "   Positive  Negative   id Game_name  Positive_Rate  \\\n",
              "1    102805      1640  400    Portal       0.984298   \n",
              "\n",
              "                                    links  \\\n",
              "1  https://store.steampowered.com/app/400   \n",
              "\n",
              "                                    Game_description  UserId  \\\n",
              "1     Portal™ is a new single player game from Va...   23049   \n",
              "\n",
              "   predicted_rating  rating_error  rating_error_percentage  \n",
              "1                 5      4.015702               407.976266  "
            ],
            "text/html": [
              "\n",
              "  <div id=\"df-be924299-ba27-483c-849d-19a9e69d05ed\">\n",
              "    <div class=\"colab-df-container\">\n",
              "      <div>\n",
              "<style scoped>\n",
              "    .dataframe tbody tr th:only-of-type {\n",
              "        vertical-align: middle;\n",
              "    }\n",
              "\n",
              "    .dataframe tbody tr th {\n",
              "        vertical-align: top;\n",
              "    }\n",
              "\n",
              "    .dataframe thead th {\n",
              "        text-align: right;\n",
              "    }\n",
              "</style>\n",
              "<table border=\"1\" class=\"dataframe\">\n",
              "  <thead>\n",
              "    <tr style=\"text-align: right;\">\n",
              "      <th></th>\n",
              "      <th>Positive</th>\n",
              "      <th>Negative</th>\n",
              "      <th>id</th>\n",
              "      <th>Game_name</th>\n",
              "      <th>Positive_Rate</th>\n",
              "      <th>links</th>\n",
              "      <th>Game_description</th>\n",
              "      <th>UserId</th>\n",
              "      <th>predicted_rating</th>\n",
              "      <th>rating_error</th>\n",
              "      <th>rating_error_percentage</th>\n",
              "    </tr>\n",
              "  </thead>\n",
              "  <tbody>\n",
              "    <tr>\n",
              "      <th>1</th>\n",
              "      <td>102805</td>\n",
              "      <td>1640</td>\n",
              "      <td>400</td>\n",
              "      <td>Portal</td>\n",
              "      <td>0.984298</td>\n",
              "      <td>https://store.steampowered.com/app/400</td>\n",
              "      <td>Portal™ is a new single player game from Va...</td>\n",
              "      <td>23049</td>\n",
              "      <td>5</td>\n",
              "      <td>4.015702</td>\n",
              "      <td>407.976266</td>\n",
              "    </tr>\n",
              "  </tbody>\n",
              "</table>\n",
              "</div>\n",
              "      <button class=\"colab-df-convert\" onclick=\"convertToInteractive('df-be924299-ba27-483c-849d-19a9e69d05ed')\"\n",
              "              title=\"Convert this dataframe to an interactive table.\"\n",
              "              style=\"display:none;\">\n",
              "        \n",
              "  <svg xmlns=\"http://www.w3.org/2000/svg\" height=\"24px\"viewBox=\"0 0 24 24\"\n",
              "       width=\"24px\">\n",
              "    <path d=\"M0 0h24v24H0V0z\" fill=\"none\"/>\n",
              "    <path d=\"M18.56 5.44l.94 2.06.94-2.06 2.06-.94-2.06-.94-.94-2.06-.94 2.06-2.06.94zm-11 1L8.5 8.5l.94-2.06 2.06-.94-2.06-.94L8.5 2.5l-.94 2.06-2.06.94zm10 10l.94 2.06.94-2.06 2.06-.94-2.06-.94-.94-2.06-.94 2.06-2.06.94z\"/><path d=\"M17.41 7.96l-1.37-1.37c-.4-.4-.92-.59-1.43-.59-.52 0-1.04.2-1.43.59L10.3 9.45l-7.72 7.72c-.78.78-.78 2.05 0 2.83L4 21.41c.39.39.9.59 1.41.59.51 0 1.02-.2 1.41-.59l7.78-7.78 2.81-2.81c.8-.78.8-2.07 0-2.86zM5.41 20L4 18.59l7.72-7.72 1.47 1.35L5.41 20z\"/>\n",
              "  </svg>\n",
              "      </button>\n",
              "      \n",
              "  <style>\n",
              "    .colab-df-container {\n",
              "      display:flex;\n",
              "      flex-wrap:wrap;\n",
              "      gap: 12px;\n",
              "    }\n",
              "\n",
              "    .colab-df-convert {\n",
              "      background-color: #E8F0FE;\n",
              "      border: none;\n",
              "      border-radius: 50%;\n",
              "      cursor: pointer;\n",
              "      display: none;\n",
              "      fill: #1967D2;\n",
              "      height: 32px;\n",
              "      padding: 0 0 0 0;\n",
              "      width: 32px;\n",
              "    }\n",
              "\n",
              "    .colab-df-convert:hover {\n",
              "      background-color: #E2EBFA;\n",
              "      box-shadow: 0px 1px 2px rgba(60, 64, 67, 0.3), 0px 1px 3px 1px rgba(60, 64, 67, 0.15);\n",
              "      fill: #174EA6;\n",
              "    }\n",
              "\n",
              "    [theme=dark] .colab-df-convert {\n",
              "      background-color: #3B4455;\n",
              "      fill: #D2E3FC;\n",
              "    }\n",
              "\n",
              "    [theme=dark] .colab-df-convert:hover {\n",
              "      background-color: #434B5C;\n",
              "      box-shadow: 0px 1px 3px 1px rgba(0, 0, 0, 0.15);\n",
              "      filter: drop-shadow(0px 1px 2px rgba(0, 0, 0, 0.3));\n",
              "      fill: #FFFFFF;\n",
              "    }\n",
              "  </style>\n",
              "\n",
              "      <script>\n",
              "        const buttonEl =\n",
              "          document.querySelector('#df-be924299-ba27-483c-849d-19a9e69d05ed button.colab-df-convert');\n",
              "        buttonEl.style.display =\n",
              "          google.colab.kernel.accessAllowed ? 'block' : 'none';\n",
              "\n",
              "        async function convertToInteractive(key) {\n",
              "          const element = document.querySelector('#df-be924299-ba27-483c-849d-19a9e69d05ed');\n",
              "          const dataTable =\n",
              "            await google.colab.kernel.invokeFunction('convertToInteractive',\n",
              "                                                     [key], {});\n",
              "          if (!dataTable) return;\n",
              "\n",
              "          const docLinkHtml = 'Like what you see? Visit the ' +\n",
              "            '<a target=\"_blank\" href=https://colab.research.google.com/notebooks/data_table.ipynb>data table notebook</a>'\n",
              "            + ' to learn more about interactive tables.';\n",
              "          element.innerHTML = '';\n",
              "          dataTable['output_type'] = 'display_data';\n",
              "          await google.colab.output.renderOutput(dataTable, element);\n",
              "          const docLink = document.createElement('div');\n",
              "          docLink.innerHTML = docLinkHtml;\n",
              "          element.appendChild(docLink);\n",
              "        }\n",
              "      </script>\n",
              "    </div>\n",
              "  </div>\n",
              "  "
            ]
          },
          "metadata": {},
          "execution_count": 133
        }
      ]
    },
    {
      "cell_type": "markdown",
      "source": [
        "let's get error avregae for this user "
      ],
      "metadata": {
        "id": "WbInEsRG6qcB"
      }
    },
    {
      "cell_type": "code",
      "source": [
        "print('error aevrage:', ratings_1['rating_error'].mean())"
      ],
      "metadata": {
        "colab": {
          "base_uri": "https://localhost:8080/"
        },
        "id": "wvu58cFAxnj8",
        "outputId": "8178d203-2364-4368-a062-5748772b7485"
      },
      "execution_count": 134,
      "outputs": [
        {
          "output_type": "stream",
          "name": "stdout",
          "text": [
            "error aevrage: 4.015702044138063\n"
          ]
        }
      ]
    },
    {
      "cell_type": "code",
      "source": [
        "x= svd.predict(1, 8844)\n",
        "x[3]"
      ],
      "metadata": {
        "colab": {
          "base_uri": "https://localhost:8080/"
        },
        "id": "tfDyYSIAxsAk",
        "outputId": "b0c33943-e600-4c6b-f4fc-ecf11172e9ed"
      },
      "execution_count": 155,
      "outputs": [
        {
          "output_type": "execute_result",
          "data": {
            "text/plain": [
              "5"
            ]
          },
          "metadata": {},
          "execution_count": 155
        }
      ]
    }
  ]
}